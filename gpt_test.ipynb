{
 "cells": [
  {
   "cell_type": "code",
   "execution_count": 29,
   "metadata": {},
   "outputs": [],
   "source": [
    "import os\n",
    "import openai\n",
    "import IPython\n",
    "from dotenv import load_dotenv\n",
    "\n",
    "load_dotenv(\"./key.env\")\n",
    "# Load your API key from an environment variable or secret management service\n",
    "openai.api_key = os.getenv(\"OPEN_API_KEY_FILO\")"
   ]
  },
  {
   "cell_type": "code",
   "execution_count": 30,
   "metadata": {},
   "outputs": [],
   "source": [
    "# 함수화\n",
    "def make_stroy(messages, temperature=1, top_p=1,n=1, presence_penalty=0, frequency_penalty=0):\n",
    "    chat_response=openai.ChatCompletion.create(model=\"gpt-3.5-turbo\", \n",
    "                                               messages=messages,\n",
    "                                               temperature=temperature,\n",
    "                                               top_p=top_p,\n",
    "                                               n=n,\n",
    "                                               presence_penalty=presence_penalty,\n",
    "                                               frequency_penalty=frequency_penalty\n",
    "                                               )\n",
    "    output=chat_response[\"choices\"][0][\"message\"][\"content\"]\n",
    "    return output"
   ]
  },
  {
   "cell_type": "code",
   "execution_count": 22,
   "metadata": {},
   "outputs": [],
   "source": [
    "# 함수화\n",
    "def make_stroy4(messages, temperature=1, top_p=1,n=1, presence_penalty=0, frequency_penalty=0):\n",
    "    chat_response=openai.ChatCompletion.create(model=\"gpt-4\", \n",
    "                                               messages=messages,\n",
    "                                               temperature=temperature,\n",
    "                                               top_p=top_p,\n",
    "                                               n=n,\n",
    "                                               presence_penalty=presence_penalty,\n",
    "                                               frequency_penalty=frequency_penalty\n",
    "                                               )\n",
    "    output=chat_response[\"choices\"][0][\"message\"][\"content\"]\n",
    "    return output"
   ]
  },
  {
   "cell_type": "code",
   "execution_count": 4,
   "metadata": {},
   "outputs": [],
   "source": [
    "message_1=[{\"role\":\"system\", \"content\":\"너는 아이들을 위한 동화를 생성하는 작가야. 동화를 구성하는데 필요한 구성은 다음과 같아. 구성: 캐릭터 설정, 스토리 설정, 테마 설정, 상상력 플러스 ; 다음은 각 구성의 구체적인 내용이야. 캐릭터 설정: 주인공의 이름, 나이, 성별 ; 스토리 설정: 동화의 대분류를 결정하는 것으로 그 예시는 다음과 같아. 스토리 설정 예시: 용기와 모험, 다양성과 우정, 환경보호와 자연, 가족과 사랑, 우정과 협력, 자기 수용과 자신감 ; 테마 설정: 테마 설정은 이야기가 펼쳐질 배경을 의미해. 배경 예시: 학교, 집, 유치원, 원더랜드 ; 상상력 플러스: 상상력 플러스는 이야기를 더욱 풍성하게 해줄 조미료 역할을 하는 것으로, 명사 또는 명사구로 이루어진 키워드를 입력받아. 상상력 플러스 예시: 사랑, 우정 ; 너는 유저한테 각 구성에 대한 input 값을 전달받으면 이를 바탕으로 동화를 작성하는 역할을 수행하면 돼. 이때, 주인공의 나이에 맞는 동화를 기승전결이 확실히 구분되는 12페이지 동화를 작성해줘. 다음은 output 형태야. 페이지 수: 12페이지 ; 각 페이지의 양: 최소 단어 50개 이상 ; 페이지 형태: {페이지 번호:페이지 내용}의 형식을 갖는 json 형식.\"},\n",
    "           {\"role\":\"user\",\"content\":\"캐릭터 설정: 서아, 3살, 여자 ; 스토리 설정: 우정과 협력 ; 테마 설정: 학교 ; 상상력 플러스: 화해\"}]"
   ]
  },
  {
   "cell_type": "code",
   "execution_count": 9,
   "metadata": {},
   "outputs": [],
   "source": [
    "test=make_stroy(message_3,temperature=0.75)"
   ]
  },
  {
   "cell_type": "code",
   "execution_count": 6,
   "metadata": {},
   "outputs": [],
   "source": [
    "import json\n",
    "\n",
    "json_object=json.loads(test)\n"
   ]
  },
  {
   "cell_type": "code",
   "execution_count": null,
   "metadata": {},
   "outputs": [],
   "source": [
    "# ver2\n",
    "message_2=[{\"role\":\"system\", \"content\":\"너는 아이들을 위한 동화를 생성하는 작가야. 동화를 구성하는데 필요한 구성은 다음과 같아. 구성: 캐릭터 설정, 스토리 설정, 테마 설정, 상상력 플러스 ; 다음은 각 구성의 구체적인 내용이야. 캐릭터 설정: 주인공의 이름, 나이, 성별 ; 스토리 설정: 동화의 대분류를 결정하는 것으로 그 예시는 다음과 같아. 스토리 설정 예시: 용기와 모험, 다양성과 우정, 환경보호와 자연, 가족과 사랑, 우정과 협력, 자기 수용과 자신감 ; 테마 설정: 테마 설정은 이야기가 펼쳐질 배경을 의미해. 배경 예시: 학교, 집, 유치원, 원더랜드 ; 상상력 플러스: 상상력 플러스는 이야기를 더욱 풍성하게 해줄 조미료 역할을 하는 것으로, 명사 또는 명사구로 이루어진 키워드를 입력받아. 상상력 플러스 예시: 사랑, 우정 ; 너는 유저한테 각 구성에 대한 input 값을 전달받으면 이를 바탕으로 개연성이 확실한 동화를 작성하는 역할을 수행하면 돼. 다음은 output 형태야. 페이지 수: 12페이지 ; 각 페이지의 양: 최소 단어 50개 이상 ; 페이지 형태: {페이지 번호:페이지 내용}의 형식을 갖는 json 형식.\"},\n",
    "           {\"role\":\"assistant\",\"content\":\"네 알겠습니다. 유저의 input을 받고 그에 맞는 아이들을 위한 동화를 작성하겠습니다. 동화의 개연성을 높게 만들겠습니다. input을 주세요. json 형태로 결과를 드리겠습니다.\"},\n",
    "           {\"role\":\"user\",\"content\":\"캐릭터 설정: 서아, 3살, 여자 ; 스토리 설정: 우정과 협력 ; 테마 설정: 학교 ; 상상력 플러스: 급식\"}]"
   ]
  },
  {
   "cell_type": "code",
   "execution_count": 13,
   "metadata": {},
   "outputs": [],
   "source": [
    "# 영어 버전\n",
    "message_3=[{\"role\":\"system\",\"content\":\"You are a writer who creates a fairy tale for children. You are writing a new fairy tale for children of age 8~9. The structure you are provided with includes the following components: Structure: Character setting, Story setting, Theme setting, Imagination Plus; here are the specific details for each component: Character setting: Protagonist's name, age, gender; Story setting: Determines the main category of the fairy tale. Here are some examples: Story setting examples: Courage and adventure, Diversity and friendship, Environmental protection and nature, Family and love, Friendship and cooperation, Self-acceptance and confidence; Theme setting: The theme setting refers to the backdrop against which the story unfolds. Backdrop examples: School, home, kindergarten, wonderland; Imagination Plus: Imagination Plus serves as a seasoning that enriches the story. It accepts keywords or phrases composed of nouns. Imagination Plus examples: Love, friendship; You will receive input values from the user for each component, and based on that, you will create a coherent fairy tale. The output format is as follows: Page count: 12 pages; Word count per page: at least 50 words; Page format: a JSON format with {{title:title},{page number: page content}}. lastly When you answer, you write only JSON format!!\"},\n",
    "           {\"role\":\"assistant\",\"content\":\"Sure, I understand. I will create a fairy tale for children based on the user's input. I will ensure a high level of coherence in the story. I'll give you the output in the form of a complete JSON. Please provide me with the necessary input. only json format\"},\n",
    "           {\"role\":\"user\",\"content\":\"Character settings: Seo-ah, 3 years old, female; story settings: friendship and cooperation; theme settings: school; imagination plus: reconciliation\"}]"
   ]
  },
  {
   "cell_type": "code",
   "execution_count": 26,
   "metadata": {},
   "outputs": [],
   "source": [
    "message_4=[{\"role\":\"system\",\"content\":\"You are a writer who creates a fairy tale for children. You are writing a new fairy tale for children of age 8~9. The structure you are provided with includes the following components: Structure: Character setting, Story setting, Theme setting, Imagination Plus; here are the specific details for each component: Character setting: Protagonist's name, age, gender; Story setting: Determines the main category of the fairy tale. Here are some examples: Story setting examples: Courage and adventure, Diversity and friendship, Environmental protection and nature, Family and love, Friendship and cooperation, Self-acceptance and confidence; Theme setting: The theme setting refers to the backdrop against which the story unfolds. Backdrop examples: School, home, kindergarten, wonderland; Imagination Plus: Imagination Plus serves as a seasoning that enriches the story. It accepts keywords or phrases composed of nouns. Imagination Plus examples: Love, friendship; You will receive input values from the user for each component, and based on that, you will create a coherent fairy tale. The output format is as follows: Page count: 12 pages; Word count per page: at least 50 words; Page format: a JSON format with {{title:title},{page number: page content}}. lastly When you answer, you write only JSON format!! Use Korean when you write the story.\"},\n",
    "           {\"role\":\"assistant\",\"content\":\"Sure, I understand. I will create a fairy tale for children based on the user's input. I will ensure a high level of coherence in the story. I'll give you the output in the form of a complete JSON. I will write the story in Korean. Please provide me with the necessary input. only json format\"},\n",
    "           {\"role\":\"user\",\"content\":\"Character settings: Seo-ah, 3 years old, female; story settings: friendship and cooperation; theme settings: school; imagination plus: reconciliation\"}]"
   ]
  },
  {
   "cell_type": "code",
   "execution_count": 7,
   "metadata": {},
   "outputs": [
    {
     "data": {
      "text/plain": [
       "'{\\n  \"페이지 1\": \"한 가을 날, 학교에 다니는 서아는 새로운 친구를 만나게 되었어요.\",\\n  \"페이지 2\": \"친구의 이름은 민주예요. 민주는 매우 용감하고 친절한 친구였어요.\",\\n  \"페이지 3\": \"서아와 민주는 함께 수업을 들으면서 친해지기 시작했어요.\",\\n  \"페이지 4\": \"어려운 문제를 풀 때마다 서아와 민주는 서로를 도와주며 고민을 함께 나눴어요.\",\\n  \"페이지 5\": \"한 번은 학교에서 친구들과 싸움을 했어요. 서아와 민주는 서로를 이해하고 화해하는 법을 배웠어요.\",\\n  \"페이지 6\": \"서아와 민주는 함께 문제를 해결하고 어려움을 극복하는데 성공했어요.\",\\n  \"페이지 7\": \"서아와 민주는 우정과 협력을 통해 함께 성장하고 배우는 소중한 시간을 가졌어요.\",\\n  \"페이지 8\": \"학교 생활에서 서아와 민주는 언제나 서로를 응원하고 돕는 친구였어요.\",\\n  \"페이지 9\": \"마지막 날, 서아와 민주는 학교를 떠나기 전에 서로를 감사하게 생각했어요.\",\\n  \"페이지 10\": \"우정과 협력은 어떤 어려움이든 해결할 수 있는 힘이에요.\",\\n  \"페이지 11\": \"서아와 민주는 우정과 협력을 통해 더 멋진 세상을 만들기로 다짐했어요.\",\\n  \"페이지 12\": \"서아와 민주는 항상 서로를 지지하며, 우정과 협력의 소중함을 영원히 기억할 거예요.\"\\n}'"
      ]
     },
     "execution_count": 7,
     "metadata": {},
     "output_type": "execute_result"
    }
   ],
   "source": [
    "test"
   ]
  },
  {
   "cell_type": "code",
   "execution_count": 31,
   "metadata": {},
   "outputs": [
    {
     "name": "stdout",
     "output_type": "stream",
     "text": [
      "{\n",
      "  \"title\": \"Seo-ah's Friendship Adventure\",\n",
      "  \"1\": \"한 번에 한 번은 어느 학교의 마법이 일어났어요. 세 살짜리 여자 아이인 서아는 이 마법에 의해 파란색 교복을 입은 소녀로 변했어요. 서아는 교실 안으로 들어갔어요.\",\n",
      "  \"2\": \"교실 안에서 서아는 다른 친구들을 만났어요. 서아는 다른 아이들에게 인사를 했어요. 하지만 아이들은 서아를 이상하게 봤어요. 서아는 왜 그런지 궁금했어요.\",\n",
      "  \"3\": \"서아는 교실 창문 밖을 보았어요. 그곳에는 아름다운 정원이 있었어요. 서아는 정원으로 나가서 놀고 싶었어요. 그러나 아이들은 서아를 따라오지 않았어요.\",\n",
      "  \"4\": \"서아는 서운해졌어요. 그러나 그때, 서아는 한 소녀를 발견했어요. 그 소녀는 다른 아이들과 달랐어요. 그 소녀는 서아에게 다가와서 손을 내밀었어요.\",\n",
      "  \"5\": \"서아는 그 소녀와 함께 정원으로 갔어요. 정원에는 아이들이 서로 도와주며 놀고 있었어요. 서아는 다른 아이들과 함께 뛰어놀며 즐거운 시간을 보냈어요.\",\n",
      "  \"6\": \"서아는 다른 아이들과 친구가 되었어요. 그들은 함께 공부하고 놀며 서로 도와주었어요. 서아는 이제 학교에서 행복하게 지낼 수 있었어요.\",\n",
      "  \"7\": \"그런데 어느 날 교실에서 큰 싸움이 일어났어요. 아이들은 서로를 이해하지 못하고 말싸움을 했어요. 서아는 다시 서운해졌어요.\",\n",
      "  \"8\": \"하지만 서아는 기억해냈어요. 그 소녀가 서아를 도와준 것을. 서아는 다시 그 소녀에게로 갔어요. 그 소녀는 모든 아이들을 모아서 교실에 들어갔어요.\",\n",
      "  \"9\": \"서아와 아이들은 서로를 이해하고 합의했어요. 그들은 화해하고 함께 놀았어요. 서아는 다시 행복해졌어요.\",\n",
      "  \"10\": \"그 날부터 학교 안에서는 모두가 서로를 이해하고 도와주었어요. 서아는 친구들과 함께 즐겁게 학교 생활을 할 수 있었어요.\",\n",
      "  \"11\": \"서아는 항상 친구들과 협력하고 화합하는 것이 얼마나 중요한지 배웠어요. 그리고 그 소중한 친구들과 함께 행복한 시간을 보냈어요.\",\n",
      "  \"12\": \"이렇게 서아는 친구들과 함께 학교에서 즐거운 추억을 만들었어요. 그리고 서아는 항상 용기와 협력의 중요성을 기억하며 성장해나갔어요.\"\n",
      "}\n"
     ]
    }
   ],
   "source": [
    "import json\n",
    "test=make_stroy(message_3,temperature=0.7)\n",
    "json_object=json.loads(test)\n",
    "print(test)"
   ]
  },
  {
   "cell_type": "code",
   "execution_count": 16,
   "metadata": {},
   "outputs": [
    {
     "name": "stdout",
     "output_type": "stream",
     "text": [
      "{\n",
      "  \"title\": \"Seo-ah's School Adventure\",\n",
      "  \"1\": \"한 번에 한 번 나쁜 날이었다. 어제는 어린이집 친구들과 싸웠고, 오늘은 학교에 가는 길에도 친구들과 싸웠다. 세 살인 서아는 울며 도망가고 싶었다. 그러던 중에 서아는 사이가 좋았던 친구인 선우를 마주쳤다.\",\n",
      "  \"2\": \"선우는 서아를 꼬집어 보며 말했다. '서아야, 우리 사이가 나빴던 건 너 때문이야. 우리 다시 친구가 될 수 있을까?'\",\n",
      "  \"3\": \"서아는 눈물을 닦으며 서로를 바라봤다. 그리고 작은 목소리로 대답했다. '나도 친구들과 사이가 좋지 않은 건 싫어. 우리 다시 친구가 되자!'\",\n",
      "  \"4\": \"서아와 선우는 서로의 손을 잡고 학교로 향했다. 학교에 도착하자, 서아는 새로운 친구들을 만날 수 있었다. 함께 놀고, 함께 배우며, 함께 공부하는 시간이 시작되었다.\",\n",
      "  \"5\": \"그런데 어느 날, 서아는 친구들 사이에서 문제가 생겼다. 친구들은 서로를 이해하지 못하고 서로에게 화를 냈다. 서아는 마음이 아파졌다.\",\n",
      "  \"6\": \"서아는 선생님께 도움을 청했다. 선생님은 서아와 친구들을 모아 이야기를 나눴다. 서아는 친구들과 서로를 이해하고 화해할 수 있는 방법을 배웠다.\",\n",
      "  \"7\": \"서아는 친구들에게 다가가서 미안하다고 말했다. 그리고 친구들도 서아에게 미안하다고 말했다. 서아와 친구들은 서로의 손을 잡고 다시 함께 놀기로 했다.\",\n",
      "  \"8\": \"서아와 친구들은 더 이상 서로를 싸워서는 안 된다고 다짐했다. 그들은 더 이상 화를 내지 않고, 서로를 이해하며 함께 협력하기로 했다.\",\n",
      "  \"9\": \"서아와 친구들은 학교 생활을 즐겁게 보냈다. 서로를 도와주고, 서로를 위로해주며, 서로를 칭찬해주었다. 그리고 마침내 학교 생활은 평화롭게 이어졌다.\",\n",
      "  \"10\": \"서아는 친구들과 함께 많은 추억을 만들었다. 그리고 서아는 친구들과의 화해를 통해 더욱 성장한 것을 느꼈다. 서아는 다른 친구들에게도 화해와 협력의 중요성을 전했다.\",\n",
      "  \"11\": \"이야기의 끝에 서아는 선우에게 감사의 마음을 전했다. 그리고 서아와 선우는 평생 친구로 남기로 약속했다.\",\n",
      "  \"12\": \"서아의 학교 모험이 끝났다. 그리고 서아는 앞으로도 친구들과 함께 협력하며 즐거운 시간을 보낼 것이다. 이야기의 끝.\"\n",
      "}\n"
     ]
    }
   ],
   "source": [
    "import json\n",
    "test=make_stroy(message_3,temperature=0.7)\n",
    "json_object=json.loads(test)\n",
    "print(test)"
   ]
  },
  {
   "cell_type": "code",
   "execution_count": 28,
   "metadata": {},
   "outputs": [
    {
     "ename": "Exception",
     "evalue": "Error 404: {\n    \"error\": {\n        \"message\": \"The model: `gpt-4` does not exist\",\n        \"type\": \"invalid_request_error\",\n        \"param\": null,\n        \"code\": \"model_not_found\"\n    }\n}\n",
     "output_type": "error",
     "traceback": [
      "\u001b[0;31m---------------------------------------------------------------------------\u001b[0m",
      "\u001b[0;31mException\u001b[0m                                 Traceback (most recent call last)",
      "Cell \u001b[0;32mIn[28], line 34\u001b[0m\n\u001b[1;32m     27\u001b[0m         \u001b[39mraise\u001b[39;00m \u001b[39mException\u001b[39;00m(\u001b[39mf\u001b[39m\u001b[39m\"\u001b[39m\u001b[39mError \u001b[39m\u001b[39m{\u001b[39;00mresponse\u001b[39m.\u001b[39mstatus_code\u001b[39m}\u001b[39;00m\u001b[39m: \u001b[39m\u001b[39m{\u001b[39;00mresponse\u001b[39m.\u001b[39mtext\u001b[39m}\u001b[39;00m\u001b[39m\"\u001b[39m)\n\u001b[1;32m     29\u001b[0m messages \u001b[39m=\u001b[39m [\n\u001b[1;32m     30\u001b[0m     {\u001b[39m\"\u001b[39m\u001b[39mrole\u001b[39m\u001b[39m\"\u001b[39m: \u001b[39m\"\u001b[39m\u001b[39msystem\u001b[39m\u001b[39m\"\u001b[39m, \u001b[39m\"\u001b[39m\u001b[39mcontent\u001b[39m\u001b[39m\"\u001b[39m: \u001b[39m\"\u001b[39m\u001b[39mYou are a helpful assistant.\u001b[39m\u001b[39m\"\u001b[39m},\n\u001b[1;32m     31\u001b[0m     {\u001b[39m\"\u001b[39m\u001b[39mrole\u001b[39m\u001b[39m\"\u001b[39m: \u001b[39m\"\u001b[39m\u001b[39muser\u001b[39m\u001b[39m\"\u001b[39m, \u001b[39m\"\u001b[39m\u001b[39mcontent\u001b[39m\u001b[39m\"\u001b[39m: \u001b[39m\"\u001b[39m\u001b[39mTranslate the following English text to French: \u001b[39m\u001b[39m'\u001b[39m\u001b[39mHello, how are you?\u001b[39m\u001b[39m'\u001b[39m\u001b[39m\"\u001b[39m}\n\u001b[1;32m     32\u001b[0m ]\n\u001b[0;32m---> 34\u001b[0m response_text \u001b[39m=\u001b[39m generate_chat_completion(message_4)\n\u001b[1;32m     35\u001b[0m \u001b[39mprint\u001b[39m(response_text)\n",
      "Cell \u001b[0;32mIn[28], line 27\u001b[0m, in \u001b[0;36mgenerate_chat_completion\u001b[0;34m(messages, model, temperature, max_tokens)\u001b[0m\n\u001b[1;32m     25\u001b[0m     \u001b[39mreturn\u001b[39;00m response\u001b[39m.\u001b[39mjson()[\u001b[39m\"\u001b[39m\u001b[39mchoices\u001b[39m\u001b[39m\"\u001b[39m][\u001b[39m0\u001b[39m][\u001b[39m\"\u001b[39m\u001b[39mmessage\u001b[39m\u001b[39m\"\u001b[39m][\u001b[39m\"\u001b[39m\u001b[39mcontent\u001b[39m\u001b[39m\"\u001b[39m]\n\u001b[1;32m     26\u001b[0m \u001b[39melse\u001b[39;00m:\n\u001b[0;32m---> 27\u001b[0m     \u001b[39mraise\u001b[39;00m \u001b[39mException\u001b[39;00m(\u001b[39mf\u001b[39m\u001b[39m\"\u001b[39m\u001b[39mError \u001b[39m\u001b[39m{\u001b[39;00mresponse\u001b[39m.\u001b[39mstatus_code\u001b[39m}\u001b[39;00m\u001b[39m: \u001b[39m\u001b[39m{\u001b[39;00mresponse\u001b[39m.\u001b[39mtext\u001b[39m}\u001b[39;00m\u001b[39m\"\u001b[39m)\n",
      "\u001b[0;31mException\u001b[0m: Error 404: {\n    \"error\": {\n        \"message\": \"The model: `gpt-4` does not exist\",\n        \"type\": \"invalid_request_error\",\n        \"param\": null,\n        \"code\": \"model_not_found\"\n    }\n}\n"
     ]
    }
   ],
   "source": [
    "import requests\n",
    "import json\n",
    "\n",
    "API_KEY = os.getenv(\"OPEN_API_KEY_FILO\")\n",
    "API_ENDPOINT = \"https://api.openai.com/v1/chat/completions\"\n",
    "\n",
    "def generate_chat_completion(messages, model=\"gpt-4\", temperature=1, max_tokens=None):\n",
    "    headers = {\n",
    "        \"Content-Type\": \"application/json\",\n",
    "        \"Authorization\": f\"Bearer {API_KEY}\",\n",
    "    }\n",
    "\n",
    "    data = {\n",
    "        \"model\": model,\n",
    "        \"messages\": messages,\n",
    "        \"temperature\": temperature,\n",
    "    }\n",
    "\n",
    "    if max_tokens is not None:\n",
    "        data[\"max_tokens\"] = max_tokens\n",
    "\n",
    "    response = requests.post(API_ENDPOINT, headers=headers, data=json.dumps(data))\n",
    "\n",
    "    if response.status_code == 200:\n",
    "        return response.json()[\"choices\"][0][\"message\"][\"content\"]\n",
    "    else:\n",
    "        raise Exception(f\"Error {response.status_code}: {response.text}\")\n",
    "\n",
    "messages = [\n",
    "    {\"role\": \"system\", \"content\": \"You are a helpful assistant.\"},\n",
    "    {\"role\": \"user\", \"content\": \"Translate the following English text to French: 'Hello, how are you?'\"}\n",
    "]\n",
    "\n",
    "response_text = generate_chat_completion(message_4)\n",
    "print(response_text)"
   ]
  }
 ],
 "metadata": {
  "kernelspec": {
   "display_name": ".venv",
   "language": "python",
   "name": "python3"
  },
  "language_info": {
   "codemirror_mode": {
    "name": "ipython",
    "version": 3
   },
   "file_extension": ".py",
   "mimetype": "text/x-python",
   "name": "python",
   "nbconvert_exporter": "python",
   "pygments_lexer": "ipython3",
   "version": "3.9.17"
  },
  "orig_nbformat": 4
 },
 "nbformat": 4,
 "nbformat_minor": 2
}
